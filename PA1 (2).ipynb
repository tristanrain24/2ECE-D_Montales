{
 "cells": [
  {
   "cell_type": "markdown",
   "id": "0abe64e6-da4a-4fd3-90f2-7abe6c025439",
   "metadata": {},
   "source": [
    "Alphabet Soup Problem"
   ]
  },
  {
   "cell_type": "code",
   "execution_count": 21,
   "id": "038d4f8a-95b5-4ccf-9985-70c21fadbbd9",
   "metadata": {},
   "outputs": [
    {
     "name": "stdout",
     "output_type": "stream",
     "text": [
      "ainrstt\n"
     ]
    }
   ],
   "source": [
    "def alpha_order(name): #define the function that sorts a string\n",
    "    return ''.join(sorted(name))  #sort the string and convert from a list to a single string\n",
    "result = alpha_order(\"tristan\") # create a variable for output\n",
    "print (result) #print the output\n"
   ]
  },
  {
   "cell_type": "markdown",
   "id": "ae1d6587-c0e2-4100-87ca-3fd3025db4ef",
   "metadata": {},
   "source": [
    "Emoticon Problem"
   ]
  },
  {
   "cell_type": "code",
   "execution_count": 23,
   "id": "c4dfbd6d-7deb-49c5-bf27-838686ac10f3",
   "metadata": {},
   "outputs": [
    {
     "name": "stdout",
     "output_type": "stream",
     "text": [
      "i am >:(\n"
     ]
    }
   ],
   "source": [
    "def replace_emote(sentence):  #define a function that replaces words with emoticons\n",
    "    emotes = { \"smile\" : \":)\", \"grin\": \":D\", \"sad\": \":((\", \"mad\": \">:(\" }\n",
    "\n",
    "    for word, emote in emotes.items():  #create a for loop that will replace the words in a string inputted by the user\n",
    "        sentence  = sentence.replace(word, emote)\n",
    "    return sentence\n",
    "\n",
    "sample = \"i am mad\"\n",
    "sample_output = replace_emote(sample)     #use the function to replace the word \"mad\" to the emoticon \">:(\"\n",
    "print (sample_output)        #print the output"
   ]
  },
  {
   "cell_type": "markdown",
   "id": "df893aaa-22a0-41e2-b45e-e3ba3ae2e508",
   "metadata": {},
   "source": [
    "Unpacking List Problem"
   ]
  },
  {
   "cell_type": "code",
   "execution_count": 12,
   "id": "05130702-19c5-4e54-8615-a082a0ede644",
   "metadata": {},
   "outputs": [
    {
     "name": "stdout",
     "output_type": "stream",
     "text": [
      "first:  1  Middle:  [2, 3, 4, 5]  Last:  6\n"
     ]
    }
   ],
   "source": [
    "list = [1,2,3,4,5,6]           #create a list of numbers\n",
    "first = list[0]                #assign the variables values from the list\n",
    "middle = list[1:-1]\n",
    "last = list[-1]\n",
    "\n",
    "print (\"first: \", first, \" Middle: \", middle, \" Last: \", last)  #print the output"
   ]
  }
 ],
 "metadata": {
  "kernelspec": {
   "display_name": "Python 3 (ipykernel)",
   "language": "python",
   "name": "python3"
  },
  "language_info": {
   "codemirror_mode": {
    "name": "ipython",
    "version": 3
   },
   "file_extension": ".py",
   "mimetype": "text/x-python",
   "name": "python",
   "nbconvert_exporter": "python",
   "pygments_lexer": "ipython3",
   "version": "3.12.4"
  }
 },
 "nbformat": 4,
 "nbformat_minor": 5
}
