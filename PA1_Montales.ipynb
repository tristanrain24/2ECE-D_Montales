{
 "cells": [
  {
   "cell_type": "code",
   "execution_count": 18,
   "id": "2514c490-c043-4baf-9765-218f1b2f162e",
   "metadata": {},
   "outputs": [],
   "source": [
    "#Alphabet Soup Problem"
   ]
  },
  {
   "cell_type": "code",
   "execution_count": 2,
   "id": "038d4f8a-95b5-4ccf-9985-70c21fadbbd9",
   "metadata": {},
   "outputs": [
    {
     "name": "stdout",
     "output_type": "stream",
     "text": [
      "ainrstt\n"
     ]
    }
   ],
   "source": [
    "def alpha_order(name): #define the function that sorts a string\n",
    "    return ''.join(sorted(name))  #sort the string and convert from a list to a single string\n",
    "result = alpha_order(\"tristan\") # create a variable for output\n",
    "print (result) #print the output\n"
   ]
  },
  {
   "cell_type": "code",
   "execution_count": null,
   "id": "d2a7ff62-df94-4019-aacc-b6064267176f",
   "metadata": {},
   "outputs": [],
   "source": []
  },
  {
   "cell_type": "code",
   "execution_count": 10,
   "id": "c4dfbd6d-7deb-49c5-bf27-838686ac10f3",
   "metadata": {},
   "outputs": [
    {
     "name": "stdout",
     "output_type": "stream",
     "text": [
      "i am >:(\n"
     ]
    }
   ],
   "source": [
    "def replace_emote(sentence):  #define a function that replaces words with emoticons\n",
    "    emotes = { \"smile\" : \":)\", \"grin\": \":D\", \"sad\": \":((\", \"mad\": \">:(\" }\n",
    "\n",
    "    for word, emote in emotes.items():  #create a for loop that will replace the words in a string inputted by the user\n",
    "        sentence  = sentence.replace(word, emote)\n",
    "    return sentence\n",
    "\n",
    "sample = \"i am mad\"\n",
    "sample_output = replace_emote(sample)     #use the function to replace the word \"mad\" to the emoticon \">:(\"\n",
    "print (sample_output)        #print the output"
   ]
  },
  {
   "cell_type": "code",
   "execution_count": 12,
   "id": "05130702-19c5-4e54-8615-a082a0ede644",
   "metadata": {},
   "outputs": [
    {
     "name": "stdout",
     "output_type": "stream",
     "text": [
      "first:  1  Middle:  [2, 3, 4, 5]  Last:  6\n"
     ]
    }
   ],
   "source": [
    "list = [1,2,3,4,5,6]           #create a list of numbers\n",
    "first = list[0]                #assign the variables values from the list\n",
    "middle = list[1:-1]\n",
    "last = list[-1]\n",
    "\n",
    "print (\"first: \", first, \" Middle: \", middle, \" Last: \", last)  #print the output"
   ]
  },
  {
   "cell_type": "code",
   "execution_count": null,
   "id": "1a4d2e7c-cd2c-4ac0-a1c4-80ca7608a5d8",
   "metadata": {},
   "outputs": [],
   "source": []
  }
 ],
 "metadata": {
  "kernelspec": {
   "display_name": "Python 3 (ipykernel)",
   "language": "python",
   "name": "python3"
  },
  "language_info": {
   "codemirror_mode": {
    "name": "ipython",
    "version": 3
   },
   "file_extension": ".py",
   "mimetype": "text/x-python",
   "name": "python",
   "nbconvert_exporter": "python",
   "pygments_lexer": "ipython3",
   "version": "3.12.4"
  }
 },
 "nbformat": 4,
 "nbformat_minor": 5
}
