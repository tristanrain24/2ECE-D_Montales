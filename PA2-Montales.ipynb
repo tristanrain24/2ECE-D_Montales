{
 "cells": [
  {
   "cell_type": "markdown",
   "id": "86546a09-f627-4a05-9a90-13bcb45a63da",
   "metadata": {},
   "source": [
    "Normalization Problem"
   ]
  },
  {
   "cell_type": "code",
   "execution_count": 7,
   "id": "966aefde-54cb-496d-ad2c-01f14607d698",
   "metadata": {},
   "outputs": [
    {
     "data": {
      "text/plain": [
       "array([[-1.34448951,  1.32425472,  1.5068058 ,  0.79620874, -0.83405603],\n",
       "       [ 0.87000123,  0.64682986, -0.4867465 ,  0.52851044, -1.38587247],\n",
       "       [ 1.26446083,  0.60005618, -0.2120593 , -0.44670043,  1.41929711],\n",
       "       [-1.35445232, -1.59170869, -0.7602148 , -0.09153575,  0.04721628],\n",
       "       [-0.07555207, -1.74836158,  0.68623003, -0.48918723,  1.13106547]])"
      ]
     },
     "execution_count": 7,
     "metadata": {},
     "output_type": "execute_result"
    }
   ],
   "source": [
    "import numpy as np\n",
    "    X = np.random.rand(5, 5)                             # Create random 5x5 ndarray\n",
    "        \n",
    "    mean = X.mean()                                      # Use the .mean() and .std() call to find the standard deviation and mean\n",
    "    standard_deviation = X.std()\n",
    "\n",
    "    X_normalized = (X - mean) / standard_deviation       # Use the formula to normalize the values inside the 5x5 array\n",
    "\n",
    "    np.save('X_normalized.npy', X_normalized)            # save the normalized ndarray\n",
    "\n",
    "X_normalized"
   ]
  },
  {
   "cell_type": "code",
   "execution_count": null,
   "id": "f291dad2-cc2a-451c-a569-4f531b451bb7",
   "metadata": {},
   "outputs": [],
   "source": [
    "Divisible By #"
   ]
  },
  {
   "cell_type": "code",
   "execution_count": 17,
   "id": "3b73e0f7-47d0-4474-a2df-33d3dcf2a33f",
   "metadata": {
    "scrolled": true
   },
   "outputs": [
    {
     "data": {
      "text/plain": [
       "array([   9,   36,   81,  144,  225,  324,  441,  576,  729,  900, 1089,\n",
       "       1296, 1521, 1764, 2025, 2304, 2601, 2916, 3249, 3600, 3969, 4356,\n",
       "       4761, 5184, 5625, 6084, 6561, 7056, 7569, 8100, 8649, 9216, 9801])"
      ]
     },
     "execution_count": 17,
     "metadata": {},
     "output_type": "execute_result"
    }
   ],
   "source": [
    "import numpy as np\n",
    "\n",
    "array = (np.arange(1, 101).reshape(10, 10) ** 2)   # Generate numbers 1 to 100 and square them\n",
    "\n",
    "div_by_3 = array[array % 3 == 0]                       # Use boolean to find elements divisible by 3\n",
    "\n",
    "np.save('div_by_3.npy', div_by_3)              #Save the result as div_by_3.npy\n",
    "div_by_3                                       # Display the output\n",
    "\n"
   ]
  }
 ],
 "metadata": {
  "kernelspec": {
   "display_name": "Python 3 (ipykernel)",
   "language": "python",
   "name": "python3"
  },
  "language_info": {
   "codemirror_mode": {
    "name": "ipython",
    "version": 3
   },
   "file_extension": ".py",
   "mimetype": "text/x-python",
   "name": "python",
   "nbconvert_exporter": "python",
   "pygments_lexer": "ipython3",
   "version": "3.12.4"
  }
 },
 "nbformat": 4,
 "nbformat_minor": 5
}
